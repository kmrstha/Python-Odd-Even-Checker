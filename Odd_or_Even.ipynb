{
  "nbformat": 4,
  "nbformat_minor": 0,
  "metadata": {
    "colab": {
      "provenance": [],
      "authorship_tag": "ABX9TyNph6a7ORSW1vB/Pru5e+rN",
      "include_colab_link": true
    },
    "kernelspec": {
      "name": "python3",
      "display_name": "Python 3"
    },
    "language_info": {
      "name": "python"
    }
  },
  "cells": [
    {
      "cell_type": "markdown",
      "metadata": {
        "id": "view-in-github",
        "colab_type": "text"
      },
      "source": [
        "<a href=\"https://colab.research.google.com/github/kmrstha/Python-Odd-Even-Checker/blob/main/Odd_or_Even.ipynb\" target=\"_parent\"><img src=\"https://colab.research.google.com/assets/colab-badge.svg\" alt=\"Open In Colab\"/></a>"
      ]
    },
    {
      "cell_type": "code",
      "execution_count": 1,
      "metadata": {
        "id": "n2kSRndUfQrW",
        "colab": {
          "base_uri": "https://localhost:8080/"
        },
        "outputId": "a084e0db-0de9-4814-92be-1461d7177b37"
      },
      "outputs": [
        {
          "name": "stdout",
          "output_type": "stream",
          "text": [
            "Enter the number to check: j\n",
            "Please enter integer number\n",
            "None\n",
            "Do you want to continue? \n",
            "  Type 'Y' for Yes and 'N' for No. y\n",
            "Enter the number to check: 5\n",
            "The number \"5\" is odd.\n",
            "Do you want to continue? \n",
            " Type 'Y' for Yes and 'N' for No. n\n"
          ]
        }
      ],
      "source": [
        "#Odd or Even\n",
        "\n",
        "def user():\n",
        "  try:\n",
        "    #Taking input from the user and converting it to integer\n",
        "    user_input = int(input (\"Enter the number to check: \"))\n",
        "    return check_user_input(user_input)\n",
        "\n",
        "  except ValueError:\n",
        "    print (\"Please enter integer number\")\n",
        "\n",
        "def check_user_input(num):\n",
        "  #Checking the input number\n",
        "  if num % 2 == 0:\n",
        "    return give_output(num, True)\n",
        "  else:\n",
        "    return give_output(num, False)\n",
        "\n",
        "def give_output (num, val):\n",
        "  #Generating the output based on whether the number is odd or even.\n",
        "  if val == True:\n",
        "    return f'The number \"{num}\" is even.'\n",
        "  else:\n",
        "    return f'The number \"{num}\" is odd.'\n",
        "\n",
        "#Getting output for the first input.\n",
        "output1 = user()\n",
        "print (output1)\n",
        "\n",
        "#Asking the user if they want to continue.\n",
        "ask_again =  input (\"Do you want to continue? \\n  Type 'Y' for Yes and 'N' for No. \")\n",
        "\n",
        "#Continuing the process as long as the user wants to\n",
        "while (ask_again.upper() == 'Y'):\n",
        "      output2 = user()\n",
        "      print (output2)\n",
        "      ask_again =  input (\"Do you want to continue? \\n Type 'Y' for Yes and 'N' for No. \")"
      ]
    }
  ]
}